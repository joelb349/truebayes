{
 "cells": [
  {
   "cell_type": "code",
   "execution_count": 1,
   "id": "6ba9464e",
   "metadata": {},
   "outputs": [],
   "source": [
    "import numpy as np\n",
    "import matplotlib.pyplot as pp"
   ]
  },
  {
   "cell_type": "code",
   "execution_count": 2,
   "id": "87bc39fb",
   "metadata": {},
   "outputs": [],
   "source": [
    "import torch"
   ]
  },
  {
   "cell_type": "code",
   "execution_count": 3,
   "id": "9fc861ba",
   "metadata": {},
   "outputs": [],
   "source": [
    "import os\n",
    "import math"
   ]
  },
  {
   "cell_type": "code",
   "execution_count": 4,
   "id": "c7000729",
   "metadata": {},
   "outputs": [],
   "source": [
    "import network\n",
    "import geometry\n",
    "import roman\n",
    "import loss\n",
    "import like\n",
    "import plot\n",
    "import utils"
   ]
  },
  {
   "cell_type": "code",
   "execution_count": 5,
   "id": "cb998027",
   "metadata": {},
   "outputs": [],
   "source": [
    "Net_roman_G2 = network.makenet([500] + [1024] * 8 + [1*6], softmax=False)\n",
    "\n",
    "nrg2 = Net_roman_G2()"
   ]
  },
  {
   "cell_type": "code",
   "execution_count": 6,
   "id": "043861f4",
   "metadata": {},
   "outputs": [],
   "source": [
    "trainingset = lambda: roman.syntrain(size=100000, varx=['M','tc'], region=[[1, 4], [20, 25]])"
   ]
  },
  {
   "cell_type": "code",
   "execution_count": 7,
   "id": "b9f5686a",
   "metadata": {},
   "outputs": [],
   "source": [
    "set_vals = trainingset()"
   ]
  },
  {
   "cell_type": "code",
   "execution_count": 9,
   "id": "34b214ac",
   "metadata": {},
   "outputs": [],
   "source": [
    "sinc_vals = set_vals[2]"
   ]
  },
  {
   "cell_type": "code",
   "execution_count": 10,
   "id": "3f8839d9",
   "metadata": {},
   "outputs": [],
   "source": [
    "sinc_vals = utils.cuda2numpy(sinc_vals)"
   ]
  },
  {
   "cell_type": "code",
   "execution_count": 11,
   "id": "7e4c1c4a",
   "metadata": {},
   "outputs": [
    {
     "data": {
      "text/plain": [
       "array([ 1.84713919e-02,  7.21124886e-03, -1.18175261e-02, -1.83854308e-02,\n",
       "       -5.40053379e-03,  1.34363286e-02,  1.80861037e-02,  3.48788523e-03,\n",
       "       -1.49362851e-02, -1.75720807e-02, -1.49259192e-03,  1.62978675e-02,\n",
       "        1.68443695e-02, -5.64729038e-04, -1.75026413e-02, -1.59063507e-02,\n",
       "        2.66232551e-03,  1.85334887e-02,  1.47637818e-02, -4.77751950e-03,\n",
       "       -1.93748232e-02, -1.34248063e-02,  6.88693020e-03,  2.00127866e-02,\n",
       "        1.18998960e-02, -8.96671042e-03, -2.04354245e-02, -1.02018043e-02,\n",
       "        1.09927868e-02,  2.06328724e-02,  8.34547170e-03, -1.29411202e-02,\n",
       "       -2.05974970e-02, -6.34791842e-03,  1.47879496e-02,  2.03240197e-02,\n",
       "        4.22811089e-03, -1.65100582e-02, -1.98096447e-02, -2.00680015e-03,\n",
       "        1.80850364e-02,  1.90541223e-02, -2.93653866e-04, -1.94915235e-02,\n",
       "       -1.80598274e-02,  2.64948234e-03,  2.07094643e-02,  1.68317854e-02,\n",
       "       -5.03572682e-03, -2.17203572e-02, -1.53776798e-02,  7.42647005e-03,\n",
       "        2.25074757e-02,  1.37078417e-02, -9.79508925e-03, -2.30560843e-02,\n",
       "       -1.18351970e-02,  1.21145155e-02,  2.33536419e-02,  9.77519806e-03,\n",
       "       -1.43575054e-02, -2.33899970e-02, -7.54572265e-03,  1.64969191e-02,\n",
       "        2.31575258e-02,  5.16694784e-03, -1.85060054e-02, -2.26513017e-02,\n",
       "       -2.66119651e-03,  2.03586910e-02,  2.18691975e-02,  5.27631018e-05,\n",
       "       -2.20298544e-02, -2.08119731e-02,  2.63228826e-03,  2.34956294e-02,\n",
       "        1.94833539e-02, -5.36634400e-03, -2.47336458e-02, -1.78900603e-02,\n",
       "        8.12048465e-03,  2.57233474e-02,  1.60418227e-02, -1.08647458e-02,\n",
       "       -2.64461935e-02, -1.39513528e-02,  1.35683874e-02,  2.68859323e-02,\n",
       "        1.16343023e-02, -1.62001941e-02, -2.70288177e-02, -9.10917856e-03,\n",
       "        1.87287666e-02,  2.68638227e-02,  6.39723893e-03, -2.11228337e-02,\n",
       "       -2.63827927e-02, -3.52235604e-03,  2.33515613e-02,  2.55806502e-02,\n",
       "        5.10847021e-04, -2.53848862e-02, -2.44554840e-02,  2.60871276e-03,\n",
       "        2.71938052e-02,  2.30086874e-02, -5.80570754e-03, -2.87507121e-02,\n",
       "       -2.12450288e-02,  9.04772151e-03,  3.00296955e-02,  1.91727020e-02,\n",
       "       -1.23008024e-02, -3.10068335e-02, -1.68033317e-02,  1.55297378e-02,\n",
       "        3.16604823e-02,  1.41519839e-02, -1.86983589e-02, -3.19715515e-02,\n",
       "       -1.12371072e-02,  2.17698533e-02,  3.19237523e-02,  8.08046665e-03,\n",
       "       -2.47070864e-02, -3.15038338e-02, -4.70703142e-03,  2.74729431e-02,\n",
       "        3.07017993e-02,  1.14484597e-03, -3.00306547e-02, -2.95110792e-02,\n",
       "        2.57513486e-03,  3.23441587e-02,  2.79287063e-02, -6.41923957e-03,\n",
       "       -3.43784392e-02, -2.59554498e-02,  1.03512956e-02,  3.60998474e-02,\n",
       "        2.35959161e-02, -1.43328737e-02, -3.74764651e-02, -2.08586082e-02,\n",
       "        1.83235519e-02,  3.84784192e-02,  1.77559983e-02, -2.22811960e-02,\n",
       "       -3.90781723e-02, -1.43045224e-02,  2.61622556e-02,  3.92508619e-02,\n",
       "        1.05245635e-02, -2.99220979e-02, -3.89745422e-02, -6.44040341e-03,\n",
       "        3.35153043e-02,  3.82304452e-02,  2.08014390e-03, -3.68960239e-02,\n",
       "       -3.70032415e-02,  2.52440060e-03,  4.00182903e-02,  3.52812223e-02,\n",
       "       -7.33783888e-03, -4.28363755e-02, -3.30564864e-02,  1.23213623e-02,\n",
       "        4.53050882e-02,  3.03250980e-02, -1.74329262e-02, -4.73801233e-02,\n",
       "       -2.70871967e-02,  2.26274543e-02,  4.90183532e-02,  2.33470891e-02,\n",
       "       -2.78570447e-02, -5.01780957e-02, -1.91133078e-02,  3.30712125e-02,\n",
       "        5.08194193e-02,  1.43986177e-02, -3.82171050e-02, -5.09043224e-02,\n",
       "       -9.22001619e-03,  4.32397388e-02,  5.03969453e-02,  3.59867583e-03,\n",
       "       -4.80822250e-02, -4.92637381e-02,  2.44012638e-03,  5.26859723e-02,\n",
       "        4.74735275e-02, -8.86712689e-03, -5.69908619e-02, -4.49975580e-02,\n",
       "        1.56492181e-02,  6.09353855e-02,  4.18094657e-02, -2.27496102e-02,\n",
       "       -6.44567385e-02, -3.78851518e-02,  3.01280338e-02,  6.74908087e-02,\n",
       "        3.32025439e-02, -3.77409421e-02, -6.99721128e-02, -2.77412366e-02,\n",
       "        4.55417596e-02,  7.18335584e-02,  2.14819945e-02, -5.34810945e-02,\n",
       "       -7.30060190e-02, -1.44060468e-02,  6.15070127e-02,  7.34178051e-02,\n",
       "        6.49414025e-03, -6.95652366e-02, -7.29936734e-02,  2.27472326e-03,\n",
       "        7.75993913e-02,  7.16534927e-02, -1.19249672e-02, -8.55511725e-02,\n",
       "       -6.93104565e-02,  2.24866793e-02,  9.33604389e-02,  6.58683479e-02,\n",
       "       -3.39986198e-02, -1.00965284e-01, -6.12179041e-02,  4.65123430e-02,\n",
       "        1.08301878e-01,  5.52314855e-02, -6.00978360e-02, -1.15304120e-01,\n",
       "       -4.77556176e-02,  7.48515353e-02,  1.21903092e-01,  3.85999754e-02,\n",
       "       -9.09078270e-02, -1.28025755e-01, -2.75211483e-02,  1.08456075e-01,\n",
       "        1.33593157e-01,  1.41978990e-02, -1.27766475e-01, -1.38517097e-01,\n",
       "        1.80758617e-03,  1.49230927e-01,  1.42694756e-01, -2.11126674e-02,\n",
       "       -1.73429951e-01, -1.45999417e-01,  4.46209647e-02,  2.01247796e-01,\n",
       "        1.48263827e-01, -7.37129450e-02, -2.34081581e-01, -1.49249107e-01,\n",
       "        1.10608809e-01,  2.74249703e-01,  1.48581803e-01, -1.59117609e-01,\n",
       "       -3.25861245e-01, -1.45615086e-01,  2.26356059e-01,  3.96898240e-01,\n",
       "        1.39078930e-01, -3.27303588e-01, -5.05080104e-01, -1.26023546e-01,\n",
       "        4.99728739e-01,  6.99013770e-01,  9.75417346e-02, -8.73883903e-01,\n",
       "       -1.17681885e+00, -7.98920356e-03,  2.40053177e+00,  4.76265335e+00,\n",
       "        5.61124563e+00,  4.39480400e+00,  1.90056396e+00, -3.48024696e-01,\n",
       "       -1.21885478e+00, -7.07242727e-01,  2.64462143e-01,  7.20909119e-01,\n",
       "        3.93406600e-01, -2.34013051e-01, -5.13171196e-01, -2.46030957e-01,\n",
       "        2.16667444e-01,  3.96119595e-01,  1.59189597e-01, -2.04241380e-01,\n",
       "       -3.19037884e-01, -1.01335406e-01,  1.93997130e-01,  2.63117641e-01,\n",
       "        5.97750507e-02, -1.84773311e-01, -2.19795913e-01, -2.84204129e-02,\n",
       "        1.76005781e-01,  1.84630349e-01,  3.98908090e-03, -1.67398944e-01,\n",
       "       -1.55098543e-01,  1.54446065e-02,  1.58793241e-01,  1.29670724e-01,\n",
       "       -3.10858954e-02, -1.50104776e-01, -1.07372165e-01,  4.37295698e-02,\n",
       "        1.41294628e-01,  8.75574872e-02, -5.39234467e-02, -1.32352307e-01,\n",
       "       -6.97863102e-02,  6.20602109e-02,  1.23286016e-01,  5.37506416e-02,\n",
       "       -6.84316978e-02, -1.14116587e-01, -3.92305180e-02,  7.32624158e-02,\n",
       "        1.04873635e-01,  2.60658544e-02, -7.67308697e-02, -9.55928788e-02,\n",
       "       -1.41379368e-02,  7.89836422e-02,  8.63141716e-02,  3.35691171e-03,\n",
       "       -8.01448300e-02, -7.70800635e-02,  6.34687068e-03,  8.03225189e-02,\n",
       "        6.79346696e-02, -1.50289880e-02, -7.96132684e-02, -5.89227527e-02,\n",
       "        2.27353610e-02,  7.81052932e-02,  5.00889271e-02, -2.95054596e-02,\n",
       "       -7.58806542e-02, -4.14770320e-02,  3.53746973e-02,  7.30168074e-02,\n",
       "        3.31295691e-02, -4.03761789e-02, -6.95877075e-02, -2.50871666e-02,\n",
       "        4.45419997e-02,  6.56645298e-02,  1.73881836e-02, -4.79042269e-02,\n",
       "       -6.13160804e-02, -1.00683048e-02,  5.04955798e-02,  5.66091426e-02,\n",
       "        3.16021615e-03, -5.23499325e-02, -5.16085811e-02,  3.30668781e-03,\n",
       "        5.35026193e-02,  4.63773347e-02, -9.30654537e-03, -5.39906733e-02,\n",
       "       -4.09764200e-02,  1.48172304e-02,  5.38528748e-02,  3.54647413e-02,\n",
       "       -1.98205076e-02, -5.31297848e-02, -2.98990086e-02,  2.43021492e-02,\n",
       "        5.18636405e-02,  2.43335050e-02, -2.82520223e-02, -5.00982478e-02,\n",
       "       -1.88199058e-02,  3.16641107e-02,  4.78787832e-02,  1.34070721e-02,\n",
       "       -3.45365293e-02, -4.52515967e-02, -8.14083777e-03,  3.68714593e-02,\n",
       "        4.22639325e-02,  3.06382473e-03, -3.86751033e-02, -3.89636718e-02,\n",
       "        1.78475818e-03,  3.99575569e-02,  3.53990160e-02, -6.36927271e-03,\n",
       "       -4.07326482e-02, -3.16181853e-02,  1.06578050e-02,  4.10177968e-02,\n",
       "        2.76690982e-02, -1.46222850e-02, -4.08337712e-02, -2.35990547e-02,\n",
       "        1.82385873e-02,  4.02044840e-02,  1.94543973e-02, -2.14866064e-02,\n",
       "       -3.91567163e-02, -1.52802225e-02,  2.43502874e-02,  3.77198532e-02,\n",
       "        1.11200456e-02, -2.68176366e-02, -3.59255560e-02, -7.01552769e-03,\n",
       "        2.88807191e-02,  3.38074900e-02,  3.00618610e-03, -3.05355713e-02,\n",
       "       -3.14009599e-02,  8.70857213e-04,  3.17821577e-02,  2.87425946e-02,\n",
       "       -4.58111567e-03, -3.26242335e-02, -2.58699991e-02,  8.09294917e-03,\n",
       "        3.30692083e-02,  2.28213966e-02, -1.13777509e-02, -3.31279822e-02,\n",
       "       -1.96353067e-02,  1.44101111e-02,  3.28147449e-02,  1.63501725e-02,\n",
       "       -1.71679351e-02, -3.21467556e-02, -1.30040497e-02,  1.96325574e-02,\n",
       "        3.11441068e-02,  9.63426102e-03, -2.17888020e-02, -2.98294611e-02,\n",
       "       -6.27708994e-03,  2.36250162e-02,  2.82277744e-02,  2.96748080e-03,\n",
       "       -2.51330901e-02, -2.63659917e-02,  2.61248613e-04,  2.63084210e-02,\n",
       "        2.42727622e-02, -3.37766577e-03, -2.71498542e-02, -2.19781082e-02,\n",
       "        6.35246607e-03,  2.76596118e-02,  1.95131116e-02, -9.15868673e-03,\n",
       "       -2.78431736e-02, -1.69095937e-02,  1.17719006e-02,  2.77091209e-02,\n",
       "        1.41997971e-02, -1.41703794e-02, -2.72689983e-02, -1.14160506e-02,\n",
       "        1.63352303e-02,  2.65371017e-02,  8.59047286e-03, -1.82504952e-02,\n",
       "       -2.55302768e-02, -5.75465662e-03,  1.99032370e-02,  2.42676847e-02,\n",
       "        2.93937861e-03, -2.12835837e-02, -2.27705538e-02, -1.74321511e-04,\n",
       "        2.23847441e-02,  2.10619252e-02, -2.51219119e-03, -2.32029930e-02,\n",
       "       -1.91663709e-02,  5.09344041e-03,  2.37376355e-02,  1.71097163e-02,\n",
       "       -7.54453382e-03, -2.39909384e-02, -1.49187529e-02,  9.84260906e-03,\n",
       "        2.39680298e-02,  1.26209380e-02, -1.19670117e-02, -2.36767679e-02],\n",
       "      dtype=float32)"
      ]
     },
     "execution_count": 11,
     "metadata": {},
     "output_type": "execute_result"
    }
   ],
   "source": [
    "sinc_vals[20]"
   ]
  },
  {
   "cell_type": "code",
   "execution_count": 19,
   "id": "ac630e9f",
   "metadata": {},
   "outputs": [
    {
     "data": {
      "text/plain": [
       "[<matplotlib.lines.Line2D at 0x24a833d5940>]"
      ]
     },
     "execution_count": 19,
     "metadata": {},
     "output_type": "execute_result"
    },
    {
     "data": {
      "image/png": "[encoded data removed]",
      "text/plain": [
       "<Figure size 432x288 with 1 Axes>"
      ]
     },
     "metadata": {
      "needs_background": "light"
     },
     "output_type": "display_data"
    }
   ],
   "source": [
    "pp.plot(sinc_vals[])"
   ]
  },
  {
   "cell_type": "code",
   "execution_count": null,
   "id": "a96aff58",
   "metadata": {},
   "outputs": [],
   "source": []
  }
 ],
 "metadata": {
  "kernelspec": {
   "display_name": "Python 3 (ipykernel)",
   "language": "python",
   "name": "python3"
  },
  "language_info": {
   "codemirror_mode": {
    "name": "ipython",
    "version": 3
   },
   "file_extension": ".py",
   "mimetype": "text/x-python",
   "name": "python",
   "nbconvert_exporter": "python",
   "pygments_lexer": "ipython3",
   "version": "3.9.7"
  }
 },
 "nbformat": 4,
 "nbformat_minor": 5
}
