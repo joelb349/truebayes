{
 "cells": [
  {
   "cell_type": "code",
   "execution_count": 2,
   "id": "6ba9464e",
   "metadata": {},
   "outputs": [],
   "source": [
    "import numpy as np\n",
    "import matplotlib.pyplot as pp"
   ]
  },
  {
   "cell_type": "code",
   "execution_count": 3,
   "id": "87bc39fb",
   "metadata": {},
   "outputs": [],
   "source": [
    "import torch"
   ]
  },
  {
   "cell_type": "code",
   "execution_count": 4,
   "id": "9fc861ba",
   "metadata": {},
   "outputs": [],
   "source": [
    "import os\n",
    "import math"
   ]
  },
  {
   "cell_type": "code",
   "execution_count": 5,
   "id": "c7000729",
   "metadata": {},
   "outputs": [],
   "source": [
    "import network\n",
    "import geometry\n",
    "import roman\n",
    "import loss\n",
    "import like\n",
    "import plot\n",
    "import utils"
   ]
  },
  {
   "cell_type": "code",
   "execution_count": 6,
   "id": "cb998027",
   "metadata": {},
   "outputs": [],
   "source": [
    "Net_roman_G2 = network.makenet([500] + [1024] * 8 + [1*6], softmax=False)\n",
    "\n",
    "nrg2 = Net_roman_G2()"
   ]
  },
  {
   "cell_type": "code",
   "execution_count": 7,
   "id": "043861f4",
   "metadata": {},
   "outputs": [],
   "source": [
    "trainingset = lambda: roman.syntrain(size=100000, varx=['M','tc'], region=[[1, 4], [20, 25]])"
   ]
  },
  {
   "cell_type": "code",
   "execution_count": 8,
   "id": "b9f5686a",
   "metadata": {},
   "outputs": [],
   "source": [
    "set_vals = trainingset()"
   ]
  },
  {
   "cell_type": "code",
   "execution_count": 9,
   "id": "34b214ac",
   "metadata": {},
   "outputs": [],
   "source": [
    "sinc_vals = set_vals[2]"
   ]
  },
  {
   "cell_type": "code",
   "execution_count": 10,
   "id": "3f8839d9",
   "metadata": {},
   "outputs": [],
   "source": [
    "sinc_vals = utils.cuda2numpy(sinc_vals)"
   ]
  },
  {
   "cell_type": "code",
   "execution_count": 11,
   "id": "7e4c1c4a",
   "metadata": {},
   "outputs": [
    {
     "data": {
      "text/plain": [
       "array([ 4.02385630e-02,  1.21742552e-02, -2.68968455e-02, -4.30752523e-02,\n",
       "       -2.19334029e-02,  1.86338890e-02,  4.35426086e-02,  3.08501348e-02,\n",
       "       -8.92819650e-03, -4.15099412e-02, -3.83794270e-02, -1.73190492e-03,\n",
       "        3.69807146e-02,  4.40298542e-02,  1.27831111e-02, -3.00980154e-02,\n",
       "       -4.73928414e-02, -2.36147717e-02,  2.11428143e-02,  4.81686480e-02,\n",
       "        3.36001925e-02, -1.05247023e-02, -4.61875312e-02, -4.21300977e-02,\n",
       "       -1.23461592e-03,  4.14249673e-02,  4.86465767e-02,  1.35245128e-02,\n",
       "       -3.40096839e-02, -5.26757389e-02, -2.56743263e-02,  2.42239758e-02,\n",
       "        5.38573936e-02,  3.69867235e-02, -1.24959210e-02, -5.19699566e-02,\n",
       "       -4.67738844e-02, -6.16403006e-04,  4.69493531e-02,  5.43949306e-02,\n",
       "        1.44482292e-02, -3.89003903e-02, -5.92925176e-02, -2.82580219e-02,\n",
       "        2.81000789e-02,  6.10268489e-02,  4.12627459e-02, -1.49921300e-02,\n",
       "       -5.93053401e-02, -5.26769646e-02,  1.72667613e-04,  5.40060066e-02,\n",
       "        6.17539361e-02,  1.56324357e-02, -4.51935604e-02, -6.78267255e-02,\n",
       "       -3.15979049e-02,  3.31267342e-02,  7.03473464e-02,  4.68358174e-02,\n",
       "       -1.82564780e-02, -6.89220056e-02, -6.04373142e-02,  1.21452764e-03,\n",
       "        6.33404627e-02,  7.15173259e-02,  1.72073171e-02, -5.35980500e-02,\n",
       "       -7.92604610e-02, -3.60866077e-02,  3.99089418e-02,  8.29657465e-02,\n",
       "        5.44072390e-02, -2.27098353e-02, -8.20882469e-02, -7.11025819e-02,\n",
       "        2.65362812e-03,  7.62755871e-02,  8.51028040e-02,  1.94069762e-02,\n",
       "       -6.53973520e-02, -9.53845531e-02, -4.24452908e-02,  4.95661907e-02,\n",
       "        1.01020433e-01,  6.52948916e-02, -2.91494410e-02, -1.01226442e-01,\n",
       "       -8.66907388e-02,  4.77063097e-03,  9.54046845e-02,  1.05315253e-01,\n",
       "        2.26989649e-02, -8.31798390e-02, -1.19846843e-01, -5.21581620e-02,\n",
       "        6.44271076e-02,  1.29008397e-01,  8.23016912e-02, -3.92908268e-02,\n",
       "       -1.31612241e-01, -1.11651823e-01,  8.19247775e-03,  1.26598492e-01,\n",
       "        1.38592541e-01,  2.81719137e-02, -1.13062374e-01, -1.61401778e-01,\n",
       "       -6.88446090e-02,  9.02655944e-02,  1.78274885e-01,  1.12627856e-01,\n",
       "       -5.76245859e-02, -1.87329367e-01, -1.58111870e-01,  1.46646509e-02,\n",
       "        1.86573863e-01,  2.03704834e-01,  3.90795432e-02, -1.73810914e-01,\n",
       "       -2.47656882e-01, -1.04255326e-01,  1.46412909e-01,  2.88064063e-01,\n",
       "        1.82058319e-01, -1.00837559e-01, -3.22820216e-01, -2.74972320e-01,\n",
       "        3.15541066e-02,  3.49440604e-01,  3.88419718e-01,  7.15457946e-02,\n",
       "       -3.64532441e-01, -5.35017490e-01, -2.30364770e-01,  3.62107784e-01,\n",
       "        7.48132050e-01,  5.04007280e-01, -3.26797992e-01, -1.14265239e+00,\n",
       "       -1.12445056e+00,  1.87991560e-01,  2.48498058e+00,  4.76260567e+00,\n",
       "        5.88022900e+00,  5.25104523e+00,  3.20713854e+00,  7.92279661e-01,\n",
       "       -8.77210319e-01, -1.25593722e+00, -6.03864491e-01,  3.04361135e-01,\n",
       "        7.51401126e-01,  5.20520508e-01, -6.83283061e-02, -4.94977951e-01,\n",
       "       -4.57343340e-01, -6.04946166e-02,  3.27646822e-01,  3.99015367e-01,\n",
       "        1.37785941e-01, -2.04632550e-01, -3.41488153e-01, -1.83918551e-01,\n",
       "        1.08956032e-01,  2.83954591e-01,  2.08399102e-01, -3.30374800e-02,\n",
       "       -2.26833329e-01, -2.16591805e-01, -2.69163568e-02,  1.71063289e-01,\n",
       "        2.12074265e-01,  7.30372369e-02, -1.17787249e-01, -1.97592288e-01,\n",
       "       -1.06723897e-01,  6.81791306e-02,  1.75478041e-01,  1.29087463e-01,\n",
       "       -2.33344994e-02, -1.47834957e-01, -1.41174883e-01, -1.58045180e-02,\n",
       "        1.16611175e-01,  1.44078791e-01,  4.85018045e-02, -8.36171433e-02,\n",
       "       -1.38983741e-01, -7.42620826e-02,  5.05145788e-02,  1.27173826e-01,\n",
       "        9.28503424e-02, -1.87923182e-02, -1.10016197e-01, -1.04297124e-01,\n",
       "       -1.02620963e-02,  8.89292285e-02,  1.08890794e-01,  3.55890915e-02,\n",
       "       -6.53415322e-02, -1.07158087e-01, -5.63783683e-02,  4.06465642e-02,\n",
       "        9.98343900e-02,  7.20823258e-02, -1.61567163e-02, -8.78255665e-02,\n",
       "       -8.24200958e-02, -6.94014179e-03,  7.21634924e-02,  8.73716921e-02,\n",
       "        2.76189763e-02, -5.39573431e-02, -8.71622264e-02, -4.50487360e-02,\n",
       "        3.43431719e-02,  8.22368562e-02,  5.86147904e-02, -1.44341392e-02,\n",
       "       -7.32278302e-02, -6.79316819e-02, -4.72653052e-03,  6.09148331e-02,\n",
       "        7.28457719e-02,  2.22075731e-02, -4.61809449e-02, -7.34277815e-02,\n",
       "       -3.72250713e-02,  2.99659017e-02,  6.99558631e-02,  4.91697229e-02,\n",
       "       -1.32191125e-02, -6.28902167e-02, -5.76250255e-02, -3.14565841e-03,\n",
       "        5.28406724e-02,  6.23758361e-02,  1.82917845e-02, -4.05288376e-02,\n",
       "       -6.34071901e-02, -3.14957611e-02,  2.67469455e-02,  6.08938672e-02,\n",
       "        4.21761721e-02, -1.23152193e-02, -5.51814660e-02, -4.99145761e-02,\n",
       "       -1.96005940e-03,  4.67601754e-02], dtype=float32)"
      ]
     },
     "execution_count": 11,
     "metadata": {},
     "output_type": "execute_result"
    }
   ],
   "source": [
    "sinc_vals[20]"
   ]
  },
  {
   "cell_type": "code",
   "execution_count": 12,
   "id": "ac630e9f",
   "metadata": {},
   "outputs": [
    {
     "data": {
      "text/plain": [
       "[<matplotlib.lines.Line2D at 0x2b3878bdcd0>]"
      ]
     },
     "execution_count": 12,
     "metadata": {},
     "output_type": "execute_result"
    },
    {
     "data": {
      "image/png": "[encoded data removed]",
      "text/plain": [
       "<Figure size 432x288 with 1 Axes>"
      ]
     },
     "metadata": {
      "needs_background": "light"
     },
     "output_type": "display_data"
    }
   ],
   "source": [
    "pp.plot(sinc_vals[20])"
   ]
  },
  {
   "cell_type": "code",
   "execution_count": null,
   "id": "a96aff58",
   "metadata": {},
   "outputs": [],
   "source": []
  }
 ],
 "metadata": {
  "kernelspec": {
   "display_name": "Python 3 (ipykernel)",
   "language": "python",
   "name": "python3"
  },
  "language_info": {
   "codemirror_mode": {
    "name": "ipython",
    "version": 3
   },
   "file_extension": ".py",
   "mimetype": "text/x-python",
   "name": "python",
   "nbconvert_exporter": "python",
   "pygments_lexer": "ipython3",
   "version": "3.9.7"
  }
 },
 "nbformat": 4,
 "nbformat_minor": 5
}
