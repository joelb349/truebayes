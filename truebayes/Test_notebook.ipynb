{
 "cells": [
  {
   "cell_type": "code",
   "execution_count": 1,
   "id": "6ba9464e",
   "metadata": {},
   "outputs": [],
   "source": [
    "import numpy as np\n",
    "import matplotlib.pyplot as pp"
   ]
  },
  {
   "cell_type": "code",
   "execution_count": 2,
   "id": "87bc39fb",
   "metadata": {},
   "outputs": [],
   "source": [
    "import torch"
   ]
  },
  {
   "cell_type": "code",
   "execution_count": 3,
   "id": "9fc861ba",
   "metadata": {},
   "outputs": [],
   "source": [
    "import os\n",
    "import math"
   ]
  },
  {
   "cell_type": "code",
   "execution_count": 4,
   "id": "c7000729",
   "metadata": {},
   "outputs": [],
   "source": [
    "import network\n",
    "import geometry\n",
    "import roman\n",
    "import loss\n",
    "import like\n",
    "import plot\n",
    "import utils"
   ]
  },
  {
   "cell_type": "code",
   "execution_count": 5,
   "id": "cb998027",
   "metadata": {},
   "outputs": [],
   "source": [
    "Net_roman_G2 = network.makenet([250] + [1024] * 8 + [1*6], softmax=False)\n",
    "\n",
    "nrg2 = Net_roman_G2()"
   ]
  },
  {
   "cell_type": "code",
   "execution_count": 6,
   "id": "043861f4",
   "metadata": {},
   "outputs": [],
   "source": [
    "trainingset = lambda: roman.syntrain(size=100000, varx=['M','tc'], region=[[5, 10], [30, 35]])"
   ]
  },
  {
   "cell_type": "code",
   "execution_count": null,
   "id": "b9f5686a",
   "metadata": {},
   "outputs": [
    {
     "name": "stdout",
     "output_type": "stream",
     "text": [
      "Epoch 0/10, Loss: 8.683, Accuracy: 3.874\n",
      "One epoch = 58.3 seconds.\n"
     ]
    }
   ],
   "source": [
    "%%time\n",
    "training = roman.syntrainer(nrg2, trainingset, lossfunction=loss.kllossGn2,\n",
    "                           iterations=10, initstep=1e-4, finalv=1e-8)"
   ]
  },
  {
   "cell_type": "code",
   "execution_count": null,
   "id": "34b214ac",
   "metadata": {},
   "outputs": [],
   "source": [
    "sinc_vals = set_vals[2]"
   ]
  },
  {
   "cell_type": "code",
   "execution_count": null,
   "id": "3f8839d9",
   "metadata": {},
   "outputs": [],
   "source": [
    "sinc_vals = utils.cuda2numpy(sinc_vals)"
   ]
  },
  {
   "cell_type": "code",
   "execution_count": null,
   "id": "7e4c1c4a",
   "metadata": {},
   "outputs": [],
   "source": [
    "sinc_vals[20]"
   ]
  },
  {
   "cell_type": "code",
   "execution_count": null,
   "id": "ac630e9f",
   "metadata": {},
   "outputs": [],
   "source": [
    "pp.plot(sinc_vals[20])"
   ]
  },
  {
   "cell_type": "code",
   "execution_count": null,
   "id": "a96aff58",
   "metadata": {},
   "outputs": [],
   "source": [
    "a = torch.tensor([[False], [True], [False], [True]])\n",
    "a.count_nonzero().item()"
   ]
  },
  {
   "cell_type": "code",
   "execution_count": null,
   "id": "5145dd08",
   "metadata": {},
   "outputs": [],
   "source": [
    "a = torch.BoolTensor(a)"
   ]
  },
  {
   "cell_type": "code",
   "execution_count": null,
   "id": "2301df55",
   "metadata": {},
   "outputs": [],
   "source": [
    "dMc = torch.tensor([[0.499], [-0.577], [0.673], [0.121]])\n",
    "dtc = torch.tensor([[0.254], [-0.123], [0.712], [0.14]])"
   ]
  },
  {
   "cell_type": "code",
   "execution_count": null,
   "id": "b1bb9717",
   "metadata": {},
   "outputs": [],
   "source": [
    "sigma_Mc, sigma_tc = 0.156, 0.213"
   ]
  },
  {
   "cell_type": "code",
   "execution_count": null,
   "id": "0c5518cf",
   "metadata": {},
   "outputs": [],
   "source": [
    "(abs(dMc) <= torch.tensor([sigma_Mc]) & abs(dtc) <= torch.tensor([sigma_tc]))"
   ]
  },
  {
   "cell_type": "code",
   "execution_count": null,
   "id": "0598cb87",
   "metadata": {},
   "outputs": [],
   "source": []
  }
 ],
 "metadata": {
  "kernelspec": {
   "display_name": "Python 3 (ipykernel)",
   "language": "python",
   "name": "python3"
  },
  "language_info": {
   "codemirror_mode": {
    "name": "ipython",
    "version": 3
   },
   "file_extension": ".py",
   "mimetype": "text/x-python",
   "name": "python",
   "nbconvert_exporter": "python",
   "pygments_lexer": "ipython3",
   "version": "3.9.7"
  }
 },
 "nbformat": 4,
 "nbformat_minor": 5
}
