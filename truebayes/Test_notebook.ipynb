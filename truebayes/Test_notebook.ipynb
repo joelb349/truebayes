{
 "cells": [
  {
   "cell_type": "code",
   "execution_count": 1,
   "id": "6ba9464e",
   "metadata": {},
   "outputs": [],
   "source": [
    "import numpy as np\n",
    "import matplotlib.pyplot as pp"
   ]
  },
  {
   "cell_type": "code",
   "execution_count": 2,
   "id": "87bc39fb",
   "metadata": {},
   "outputs": [],
   "source": [
    "import torch"
   ]
  },
  {
   "cell_type": "code",
   "execution_count": 3,
   "id": "9fc861ba",
   "metadata": {},
   "outputs": [],
   "source": [
    "import os\n",
    "import math"
   ]
  },
  {
   "cell_type": "code",
   "execution_count": 4,
   "id": "c7000729",
   "metadata": {},
   "outputs": [],
   "source": [
    "import network\n",
    "import geometry\n",
    "import roman\n",
    "import loss\n",
    "import like\n",
    "import plot\n",
    "import utils"
   ]
  },
  {
   "cell_type": "code",
   "execution_count": 5,
   "id": "cb998027",
   "metadata": {},
   "outputs": [],
   "source": [
    "Net_roman_G2 = network.makenet([250] + [1024] * 8 + [1*6], softmax=False)\n",
    "\n",
    "nrg2 = Net_roman_G2()"
   ]
  },
  {
   "cell_type": "code",
   "execution_count": 6,
   "id": "043861f4",
   "metadata": {},
   "outputs": [],
   "source": [
    "trainingset = lambda: roman.syntrain(size=100000, varx=['M','tc'], region=[[5, 10], [30, 35]])"
   ]
  },
  {
   "cell_type": "code",
   "execution_count": 7,
   "id": "b9f5686a",
   "metadata": {},
   "outputs": [
    {
     "name": "stdout",
     "output_type": "stream",
     "text": [
      "Epoch 0/10, Loss: 12.874, Accuracy: 5.021\n",
      "One epoch = 64.8 seconds.\n",
      "Final 5.600067615509033 \n",
      "Wall time: 11min 33s\n"
     ]
    }
   ],
   "source": [
    "%%time\n",
    "training = roman.syntrainer(nrg2, trainingset, lossfunction=loss.kllossGn2,\n",
    "                           iterations=10, initstep=1e-4, finalv=1e-8)"
   ]
  },
  {
   "cell_type": "code",
   "execution_count": 8,
   "id": "34b214ac",
   "metadata": {},
   "outputs": [
    {
     "ename": "NameError",
     "evalue": "name 'set_vals' is not defined",
     "output_type": "error",
     "traceback": [
      "\u001b[1;31m---------------------------------------------------------------------------\u001b[0m",
      "\u001b[1;31mNameError\u001b[0m                                 Traceback (most recent call last)",
      "\u001b[1;32m~\\AppData\\Local\\Temp/ipykernel_93884/4257408077.py\u001b[0m in \u001b[0;36m<module>\u001b[1;34m\u001b[0m\n\u001b[1;32m----> 1\u001b[1;33m \u001b[0msinc_vals\u001b[0m \u001b[1;33m=\u001b[0m \u001b[0mset_vals\u001b[0m\u001b[1;33m[\u001b[0m\u001b[1;36m2\u001b[0m\u001b[1;33m]\u001b[0m\u001b[1;33m\u001b[0m\u001b[1;33m\u001b[0m\u001b[0m\n\u001b[0m",
      "\u001b[1;31mNameError\u001b[0m: name 'set_vals' is not defined"
     ]
    }
   ],
   "source": [
    "sinc_vals = set_vals[2]"
   ]
  },
  {
   "cell_type": "code",
   "execution_count": null,
   "id": "3f8839d9",
   "metadata": {},
   "outputs": [],
   "source": [
    "sinc_vals = utils.cuda2numpy(sinc_vals)"
   ]
  },
  {
   "cell_type": "code",
   "execution_count": null,
   "id": "7e4c1c4a",
   "metadata": {},
   "outputs": [],
   "source": [
    "sinc_vals[20]"
   ]
  },
  {
   "cell_type": "code",
   "execution_count": null,
   "id": "ac630e9f",
   "metadata": {},
   "outputs": [],
   "source": [
    "pp.plot(sinc_vals[20])"
   ]
  },
  {
   "cell_type": "code",
   "execution_count": null,
   "id": "a96aff58",
   "metadata": {},
   "outputs": [],
   "source": [
    "a = torch.tensor([[False], [True], [False], [True]])\n",
    "a.count_nonzero().item()"
   ]
  },
  {
   "cell_type": "code",
   "execution_count": null,
   "id": "bdadbbaa",
   "metadata": {},
   "outputs": [],
   "source": [
    "device = 'cpu:0'\n",
    "a = torch.BoolTensor(a, device=device)"
   ]
  },
  {
   "cell_type": "code",
   "execution_count": null,
   "id": "a4367cb6",
   "metadata": {},
   "outputs": [],
   "source": [
    "dMc = torch.tensor([[0.499], [-0.577], [0.673], [0.121]], device=device)\n",
    "dtc = torch.tensor([[0.254], [-0.123], [0.712], [0.14]])"
   ]
  },
  {
   "cell_type": "code",
   "execution_count": null,
   "id": "3d9a3f3e",
   "metadata": {},
   "outputs": [],
   "source": [
    "sigma_Mc, sigma_tc = 0.156, 0.213"
   ]
  },
  {
   "cell_type": "code",
   "execution_count": null,
   "id": "d44e9c82",
   "metadata": {},
   "outputs": [],
   "source": [
    "(abs(dMc) <= torch.tensor([sigma_Mc]) & abs(dtc) <= torch.tensor([sigma_tc]))"
   ]
  },
  {
   "cell_type": "code",
   "execution_count": null,
   "id": "9b461a5f",
   "metadata": {},
   "outputs": [],
   "source": []
  }
 ],
 "metadata": {
  "kernelspec": {
   "display_name": "Python 3 (ipykernel)",
   "language": "python",
   "name": "python3"
  },
  "language_info": {
   "codemirror_mode": {
    "name": "ipython",
    "version": 3
   },
   "file_extension": ".py",
   "mimetype": "text/x-python",
   "name": "python",
   "nbconvert_exporter": "python",
   "pygments_lexer": "ipython3",
   "version": "3.9.7"
  }
 },
 "nbformat": 4,
 "nbformat_minor": 5
}
