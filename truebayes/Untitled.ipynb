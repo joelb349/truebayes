{
 "cells": [
  {
   "cell_type": "code",
   "execution_count": 1,
   "id": "6ba9464e",
   "metadata": {},
   "outputs": [
    {
     "name": "stderr",
     "output_type": "stream",
     "text": [
      "C:\\Users\\Joel\\anaconda3\\envs\\joel\\lib\\site-packages\\numpy\\_distributor_init.py:30: UserWarning: loaded more than 1 DLL from .libs:\n",
      "C:\\Users\\Joel\\anaconda3\\envs\\joel\\lib\\site-packages\\numpy\\.libs\\libopenblas.WCDJNK7YVMPZQ2ME2ZZHJJRJ3JIKNDB7.gfortran-win_amd64.dll\n",
      "C:\\Users\\Joel\\anaconda3\\envs\\joel\\lib\\site-packages\\numpy\\.libs\\libopenblas.XWYDX2IKJW2NMTWSFYNGFUWKQU3LYTCZ.gfortran-win_amd64.dll\n",
      "  warnings.warn(\"loaded more than 1 DLL from .libs:\"\n"
     ]
    }
   ],
   "source": [
    "import numpy as np\n",
    "import matplotlib.pyplot as pp"
   ]
  },
  {
   "cell_type": "code",
   "execution_count": 2,
   "id": "87bc39fb",
   "metadata": {},
   "outputs": [],
   "source": [
    "import torch"
   ]
  },
  {
   "cell_type": "code",
   "execution_count": 3,
   "id": "9fc861ba",
   "metadata": {},
   "outputs": [],
   "source": [
    "import os\n",
    "import math"
   ]
  },
  {
   "cell_type": "code",
   "execution_count": 4,
   "id": "c7000729",
   "metadata": {},
   "outputs": [],
   "source": [
    "import network\n",
    "import geometry\n",
    "import roman\n",
    "import loss\n",
    "import like\n",
    "import plot"
   ]
  },
  {
   "cell_type": "code",
   "execution_count": 5,
   "id": "cb998027",
   "metadata": {},
   "outputs": [],
   "source": [
    "Net_roman_G2 = network.makenet([500] + [1024] * 8 + [1*6], softmax=False)\n",
    "\n",
    "nrg2 = Net_roman_G2()"
   ]
  },
  {
   "cell_type": "code",
   "execution_count": 6,
   "id": "043861f4",
   "metadata": {},
   "outputs": [],
   "source": [
    "trainingset = lambda: roman.syntrain(size=100000, varx=['M','tc'], region=[[1, 4], [20, 25]])"
   ]
  },
  {
   "cell_type": "code",
   "execution_count": 7,
   "id": "b9f5686a",
   "metadata": {},
   "outputs": [
    {
     "data": {
      "text/plain": [
       "(array([[0.28498316, 0.31998749],\n",
       "        [0.03858709, 0.95150375],\n",
       "        [0.3273379 , 0.96371193],\n",
       "        ...,\n",
       "        [0.881001  , 0.74362755],\n",
       "        [0.47846238, 0.51574554],\n",
       "        [0.409729  , 0.01980972]]),\n",
       " array([[[0., 0., 0., ..., 0., 0., 0.],\n",
       "         [0., 0., 0., ..., 0., 0., 0.],\n",
       "         [0., 0., 0., ..., 0., 0., 0.],\n",
       "         ...,\n",
       "         [0., 0., 0., ..., 0., 0., 0.],\n",
       "         [0., 0., 0., ..., 0., 0., 0.],\n",
       "         [0., 0., 0., ..., 0., 0., 0.]],\n",
       " \n",
       "        [[0., 0., 0., ..., 0., 0., 0.],\n",
       "         [0., 0., 0., ..., 0., 0., 0.],\n",
       "         [0., 0., 0., ..., 0., 0., 0.],\n",
       "         ...,\n",
       "         [0., 0., 0., ..., 0., 0., 0.],\n",
       "         [0., 0., 0., ..., 0., 0., 0.],\n",
       "         [0., 0., 0., ..., 0., 0., 0.]],\n",
       " \n",
       "        [[0., 0., 0., ..., 0., 0., 0.],\n",
       "         [0., 0., 0., ..., 0., 0., 0.],\n",
       "         [0., 0., 0., ..., 0., 0., 0.],\n",
       "         ...,\n",
       "         [0., 0., 0., ..., 0., 0., 0.],\n",
       "         [0., 0., 0., ..., 0., 0., 0.],\n",
       "         [0., 0., 0., ..., 0., 0., 0.]],\n",
       " \n",
       "        ...,\n",
       " \n",
       "        [[0., 0., 0., ..., 0., 0., 0.],\n",
       "         [0., 0., 0., ..., 0., 0., 0.],\n",
       "         [0., 0., 0., ..., 0., 0., 0.],\n",
       "         ...,\n",
       "         [0., 0., 0., ..., 0., 0., 0.],\n",
       "         [0., 0., 0., ..., 0., 0., 0.],\n",
       "         [0., 0., 0., ..., 0., 0., 0.]],\n",
       " \n",
       "        [[0., 0., 0., ..., 0., 0., 0.],\n",
       "         [0., 0., 0., ..., 0., 0., 0.],\n",
       "         [0., 0., 0., ..., 0., 0., 0.],\n",
       "         ...,\n",
       "         [0., 0., 0., ..., 0., 0., 0.],\n",
       "         [0., 0., 0., ..., 0., 0., 0.],\n",
       "         [0., 0., 0., ..., 0., 0., 0.]],\n",
       " \n",
       "        [[0., 0., 0., ..., 0., 0., 0.],\n",
       "         [0., 0., 0., ..., 0., 0., 0.],\n",
       "         [0., 0., 0., ..., 0., 0., 0.],\n",
       "         ...,\n",
       "         [0., 0., 0., ..., 0., 0., 0.],\n",
       "         [0., 0., 0., ..., 0., 0., 0.],\n",
       "         [0., 0., 0., ..., 0., 0., 0.]]]),\n",
       " tensor([[-0.1167, -0.0757,  0.0009,  ..., -0.0103, -0.0018,  0.0074],\n",
       "         [-0.0489, -0.0975, -0.0347,  ...,  0.0119,  0.0108, -0.0025],\n",
       "         [ 0.1092,  0.0477, -0.0347,  ..., -0.0010,  0.0099,  0.0169],\n",
       "         ...,\n",
       "         [ 0.1421,  0.1204,  0.0834,  ...,  0.0101,  0.0152,  0.0186],\n",
       "         [-0.0495,  0.0274,  0.1000,  ...,  0.0188,  0.0157,  0.0085],\n",
       "         [ 0.0610,  0.1117,  0.1293,  ...,  0.0121,  0.0136,  0.0109]]))"
      ]
     },
     "execution_count": 7,
     "metadata": {},
     "output_type": "execute_result"
    }
   ],
   "source": [
    "trainingset()"
   ]
  },
  {
   "cell_type": "code",
   "execution_count": null,
   "id": "3f8839d9",
   "metadata": {},
   "outputs": [],
   "source": []
  }
 ],
 "metadata": {
  "kernelspec": {
   "display_name": "Python 3 (ipykernel)",
   "language": "python",
   "name": "python3"
  },
  "language_info": {
   "codemirror_mode": {
    "name": "ipython",
    "version": 3
   },
   "file_extension": ".py",
   "mimetype": "text/x-python",
   "name": "python",
   "nbconvert_exporter": "python",
   "pygments_lexer": "ipython3",
   "version": "3.9.7"
  }
 },
 "nbformat": 4,
 "nbformat_minor": 5
}
